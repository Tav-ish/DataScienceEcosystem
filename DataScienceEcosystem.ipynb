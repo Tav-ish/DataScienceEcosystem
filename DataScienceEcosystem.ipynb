{
 "cells": [
  {
   "cell_type": "markdown",
   "id": "7849c822",
   "metadata": {},
   "source": [
    "# Data Science Tools and Ecosystem"
   ]
  },
  {
   "cell_type": "markdown",
   "id": "79ecc21d",
   "metadata": {},
   "source": [
    "In this notebook, Data Science Tools and Ecosystem are summarized"
   ]
  },
  {
   "cell_type": "markdown",
   "id": "26074422",
   "metadata": {},
   "source": [
    "<b>Objectives:</b>\n",
    "- Listing popular languages for data science\n",
    "- Lisiing open source tools data scientists use on a daily basis\n",
    "- List popular data analysis libraries\n"
   ]
  },
  {
   "cell_type": "markdown",
   "id": "a3b3ee33",
   "metadata": {},
   "source": [
    "Some of the popular languages that Data Scientists use are:\n",
    "\n",
    "1. Python\n",
    "\n",
    "2. SQL\n",
    "\n",
    "3. R\n",
    "    "
   ]
  },
  {
   "cell_type": "markdown",
   "id": "966dd9a2",
   "metadata": {},
   "source": [
    "Some of the commonly used libraries used by Data Scientists include:\n",
    "\n",
    "1. Pandas\n",
    "\n",
    "2. PySpark\n",
    "\n",
    "3. MLlib\n",
    "       "
   ]
  },
  {
   "cell_type": "markdown",
   "id": "5a1004d4",
   "metadata": {},
   "source": [
    "| Data Science Tools | \n",
    "| --- | \n",
    "| TensorFlow |\n",
    "| Scikit-learn |\n",
    "| Apache Spark |"
   ]
  },
  {
   "cell_type": "markdown",
   "id": "8fffcf88",
   "metadata": {},
   "source": [
    "### Below are a few examples of evaluating arithemetic expressions in Python"
   ]
  },
  {
   "cell_type": "markdown",
   "id": "6d7a99f8",
   "metadata": {},
   "source": [
    "This a simple arithmetic expression to mutiply then add integers"
   ]
  },
  {
   "cell_type": "code",
   "execution_count": 1,
   "id": "3f45c817",
   "metadata": {},
   "outputs": [
    {
     "data": {
      "text/plain": [
       "17"
      ]
     },
     "execution_count": 1,
     "metadata": {},
     "output_type": "execute_result"
    }
   ],
   "source": [
    "(3*4)+5"
   ]
  },
  {
   "cell_type": "markdown",
   "id": "7df73761",
   "metadata": {},
   "source": [
    "This will convert 200 minutes to hours by diving by 60"
   ]
  },
  {
   "cell_type": "code",
   "execution_count": 2,
   "id": "a9020a9a",
   "metadata": {},
   "outputs": [],
   "source": [
    "one_hour = 60"
   ]
  },
  {
   "cell_type": "code",
   "execution_count": 4,
   "id": "8dd102b5",
   "metadata": {},
   "outputs": [],
   "source": [
    " hour_counter = 200/one_hour"
   ]
  },
  {
   "cell_type": "code",
   "execution_count": 5,
   "id": "c1a0a344",
   "metadata": {},
   "outputs": [
    {
     "name": "stdout",
     "output_type": "stream",
     "text": [
      "3.3333333333333335\n"
     ]
    }
   ],
   "source": [
    "print(hour_counter)"
   ]
  },
  {
   "cell_type": "markdown",
   "id": "8fafcd03",
   "metadata": {},
   "source": [
    "## Author\n",
    "Tavish Noel"
   ]
  },
  {
   "cell_type": "code",
   "execution_count": null,
   "id": "33047aab",
   "metadata": {},
   "outputs": [],
   "source": []
  }
 ],
 "metadata": {
  "kernelspec": {
   "display_name": "Python 3 (ipykernel)",
   "language": "python",
   "name": "python3"
  },
  "language_info": {
   "codemirror_mode": {
    "name": "ipython",
    "version": 3
   },
   "file_extension": ".py",
   "mimetype": "text/x-python",
   "name": "python",
   "nbconvert_exporter": "python",
   "pygments_lexer": "ipython3",
   "version": "3.11.3"
  }
 },
 "nbformat": 4,
 "nbformat_minor": 5
}
